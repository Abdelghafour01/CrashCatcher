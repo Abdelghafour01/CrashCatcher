{
 "cells": [
  {
   "cell_type": "markdown",
   "metadata": {},
   "source": [
    "## Youtube Video and Processing\n",
    "\n",
    "#### A short script to scrape short video clips of dashboard camera accidents from YouTube dashcam videos"
   ]
  },
  {
   "cell_type": "markdown",
   "metadata": {},
   "source": [
    " "
   ]
  },
  {
   "cell_type": "code",
   "execution_count": 1,
   "metadata": {
    "collapsed": false
   },
   "outputs": [
    {
     "name": "stderr",
     "output_type": "stream",
     "text": [
      "//anaconda/lib/python2.7/site-packages/sklearn/cross_validation.py:44: DeprecationWarning: This module was deprecated in version 0.18 in favor of the model_selection module into which all the refactored classes and functions are moved. Also note that the interface of the new CV iterators are different from that of this module. This module will be removed in 0.20.\n",
      "  \"This module will be removed in 0.20.\", DeprecationWarning)\n"
     ]
    }
   ],
   "source": [
    "#### start up inline plotting, all usual packages in \"startup\", plus any extras\n",
    "%matplotlib inline\n",
    "%run startup\n",
    "from skimage import transform\n",
    "import cv2\n",
    "import os\n",
    "import skimage\n",
    "from skimage import io\n",
    "from sklearn import cluster, datasets\n",
    "import pafy\n",
    "import pickle"
   ]
  },
  {
   "cell_type": "markdown",
   "metadata": {
    "collapsed": true
   },
   "source": [
    " "
   ]
  },
  {
   "cell_type": "markdown",
   "metadata": {
    "collapsed": true
   },
   "source": [
    "#### Set up function to download youtube videos"
   ]
  },
  {
   "cell_type": "code",
   "execution_count": 2,
   "metadata": {
    "collapsed": true
   },
   "outputs": [],
   "source": [
    "def download_youtube(fileurl, name):\n",
    "    '''fileurl = URL of the (youtube) video to be downloaded\n",
    "    name = name video will be saved to on computer'''\n",
    "    ### https://pythonhosted.org/pafy/#stream-methods and https://pypi.python.org/pypi/pafy\n",
    "    v = pafy.new(fileurl)   ### uses URL provided to start to pafy instance\n",
    "    s = v.getbest()         ### gets best resolution for video at link\n",
    "    print(\"Size is %s\" % s.get_filesize())         ### provides filesize\n",
    "    fi = s.download(name+'.mp4') ### downloads video file to the videos folder\n",
    "    return fi"
   ]
  },
  {
   "cell_type": "markdown",
   "metadata": {},
   "source": [
    " "
   ]
  },
  {
   "cell_type": "markdown",
   "metadata": {
    "collapsed": true
   },
   "source": [
    " ### Write function to load the video in frame by frame\n",
    " Saves clips with accidents (identified manually) to pickle files for training with model."
   ]
  },
  {
   "cell_type": "code",
   "execution_count": 15,
   "metadata": {
    "collapsed": false
   },
   "outputs": [],
   "source": [
    "def load_frames(videofile, name, tstart, save='yes'):\n",
    "    '''Function takes downloaded videos and cuts out four second clips of video to save and use for model training.\n",
    "    videofile = filepath to the video to read in\n",
    "    name = name of file (for saving as pickle\n",
    "    tstart = array of start times (in seconds) in video to be scraped (will scrape four seconds following the tstart time given)\n",
    "    '''\n",
    "    ###  loads in video as a sequence using VideoCapture function\n",
    "    vidcap = cv2.VideoCapture(videofile)   ### open the video file to begin reading frames \n",
    "    success,image = vidcap.read()          ### reads in the first frame\n",
    "    count = 0                              ### starts counter at zero\n",
    "    success = True                         ### starts \"sucess\" flag at True\n",
    "\n",
    "    while success:                         ### while success == True\n",
    "        success, img = vidcap.read()       ### if success is still true, attempt to read in next frame from vidcap video import\n",
    "        count += 1                         ### increase count\n",
    "        if count in tstart:\n",
    "            frames = []                    ### frames will be the individual images and frames_resh will be the \"processed\" ones\n",
    "            for j in range(0,99):          ### for 99 frame (four second segments)\n",
    "                ### conversion from RGB to grayscale image to reduce data\n",
    "                success, img = vidcap.read()\n",
    "                ### ref for above: https://www.safaribooksonline.com/library/view/programming-computer-vision/9781449341916/ch06.html\n",
    "\n",
    "                tmp = skimage.color.rgb2gray(array(img))                    ### grayscale image\n",
    "                tmp = skimage.transform.downscale_local_mean(tmp, (3,3))    ### downsample image\n",
    "                frames.append(tmp)                                          ### add frame to temporary array\n",
    "            \n",
    "            count += 99                                              ### add to count for the frames we've just cycled through\n",
    "            print count, tstart, name+str(count)                     ### print check\n",
    "            pickle.dump(frames, open(name+str(count)+'.pkl', \"wb\"))  ### save all frames to a pickle\n",
    "        \n",
    "    return frames"
   ]
  },
  {
   "cell_type": "markdown",
   "metadata": {},
   "source": [
    " \n"
   ]
  },
  {
   "cell_type": "code",
   "execution_count": 16,
   "metadata": {
    "collapsed": false
   },
   "outputs": [],
   "source": [
    "### Video 1 - a compilation\n",
    "#download_youtube('https://www.youtube.com/watch?v=9YI0Ct1V4LU', 'comp1')\n",
    "### tstart  = array of start times, converted from minutes to seconds\n",
    "#tstart = array([6, 44, 1*60+17, 1*60+36,  1*60+59, 2*60+19, 2*60+51, 3*60+54, 4*60+11, 4*60+26, 4*60+47, 5*60+6, 6*60+30])*30  ## tlen = (7*60+23)*30\n",
    "#print tstart\n",
    "#frames = load_frames('comp1.mp4', 'comp1', tstart)"
   ]
  },
  {
   "cell_type": "code",
   "execution_count": 17,
   "metadata": {
    "collapsed": false
   },
   "outputs": [],
   "source": [
    "### check how a few random frames look to check that video was read in okay\n",
    "#for i in range(8,13):\n",
    "#    imshow(frames[i][50], cmap='gray'); plt.show()"
   ]
  },
  {
   "cell_type": "markdown",
   "metadata": {
    "collapsed": false
   },
   "source": [
    " "
   ]
  },
  {
   "cell_type": "code",
   "execution_count": 18,
   "metadata": {
    "collapsed": false
   },
   "outputs": [],
   "source": [
    "### Video 2 - a compilation\n",
    "#download_youtube('https://www.youtube.com/watch?v=o4SJiAAMXo0', 'comp2')\n",
    "#tstart = array([5, 16, 27, 1*60+14, 1*60+20, 2*60+27, 2*60+36, 3*60+4, 4*60+7, 4*60+18, 4*60+36, 5*60+17, 5*60+47, \n",
    "                #6*60+20, 7*60+3, 7*60+45, 8*60+13, 8*60+37, 9*60+32, 10*60+4, 10*60+28])*30  ## tlen = (7*60+23)*30\n",
    "#print tstart\n",
    "#frames = load_frames('comp2.mp4', 'comp2', tstart)"
   ]
  },
  {
   "cell_type": "markdown",
   "metadata": {
    "collapsed": false
   },
   "source": [
    " "
   ]
  },
  {
   "cell_type": "code",
   "execution_count": 22,
   "metadata": {
    "collapsed": false
   },
   "outputs": [],
   "source": [
    "### Video 3 - a compilation\n",
    "#download_youtube('https://www.youtube.com/watch?v=uXW7H1uonx8', 'comp3')\n",
    "#tstart = array([15, 43, 53, 1*60+4, 1*60+13, 1*60+24, 1*60+47, 2*60+21, 2*60+31, 2*60+42, 2*60+55, 3*60+5, 3*60+27, \n",
    "#                4*60+6, 4*60+27, 4*60+39, 5*60+5, 5*60+22, 5*60+43, 5*60+57, 6*60+11, 6*60+18, 7*60+3, 7*60+35, 8*60+2, \n",
    "#                8*60+13, 8*60+27, 8*60+40, 10*60+30, 10*60+40, 11*60+8])*30\n",
    "#print tstart\n",
    "#frames = load_frames('comp3.mp4', 'comp3', tstart)"
   ]
  },
  {
   "cell_type": "markdown",
   "metadata": {
    "collapsed": false
   },
   "source": [
    " "
   ]
  },
  {
   "cell_type": "code",
   "execution_count": 8,
   "metadata": {
    "collapsed": false
   },
   "outputs": [],
   "source": [
    "### Video 4 - a compilation\n",
    "#download_youtube('https://www.youtube.com/watch?v=vj2HJ3DPsiM', 'comp4')\n",
    "#tstart = array([40, 2*60+18, 2*60+31, 3*60+8, 3*60+46, 4*60+7, 4*60+56, 5*60+18, 5*60+39, 6*60+22, 6*60+40, 7*60+26, \n",
    "#                8*60+55, 9*60+5, 9*60+46])*30\n",
    "#print tstart\n",
    "#frames = load_frames('comp4.mp4', 'comp4', tstart)"
   ]
  },
  {
   "cell_type": "markdown",
   "metadata": {
    "collapsed": true
   },
   "source": [
    " "
   ]
  },
  {
   "cell_type": "code",
   "execution_count": 21,
   "metadata": {
    "collapsed": false,
    "scrolled": true
   },
   "outputs": [],
   "source": [
    "### Video 5 - a compilation\n",
    "#download_youtube('https://www.youtube.com/watch?v=kVl-6-A9ZO4', 'comp5')\n",
    "#tstart = array([27, 55, 1*60+16, 1*60+51, 2*60, 2*60+11, 3*60+49, 4*60+28, 5*60+17, 6*60+31, 7*60+14, 8*60+27, \n",
    "#                8*60+41, 9*60+4, 9*60+26, 9*60+46])*30\n",
    "#print tstart\n",
    "#frames = load_frames('comp5.mp4', 'comp5', tstart)"
   ]
  },
  {
   "cell_type": "markdown",
   "metadata": {},
   "source": [
    " "
   ]
  }
 ],
 "metadata": {
  "kernelspec": {
   "display_name": "Python 2",
   "language": "python",
   "name": "python2"
  },
  "language_info": {
   "codemirror_mode": {
    "name": "ipython",
    "version": 2
   },
   "file_extension": ".py",
   "mimetype": "text/x-python",
   "name": "python",
   "nbconvert_exporter": "python",
   "pygments_lexer": "ipython2",
   "version": "2.7.12"
  }
 },
 "nbformat": 4,
 "nbformat_minor": 0
}
